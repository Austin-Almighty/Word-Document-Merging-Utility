{
 "cells": [
  {
   "cell_type": "code",
   "execution_count": 1,
   "metadata": {},
   "outputs": [],
   "source": [
    "from docxcompose.composer import Composer\n",
    "from docx import Document"
   ]
  },
  {
   "cell_type": "code",
   "execution_count": null,
   "metadata": {},
   "outputs": [],
   "source": [
    "def merge_docs_with_page_breaks(output_path, *input_paths):\n",
    "\n",
    "    base_doc = Document(input_paths[0])\n",
    "    composer = Composer(base_doc)\n",
    "\n",
    "\n",
    "    for file_path in input_paths[1:]:\n",
    "        doc = Document(file_path)\n",
    "\n",
    "        # adding page break before merging each document\n",
    "        base_doc.add_page_break()\n",
    "        composer.append(doc)\n",
    "\n",
    "    composer.save(output_path)\n",
    "    print(f\"Documents merged successfully into {output_path}\")\n",
    "\n",
    "if __name__ == \"__main__\":\n",
    "    output_file = \"merged_document_with_page_breaks.docx\"\n",
    "    input_files = [\"doc1.docx\", \"doc2.docx\", \"doc3.docx\"]\n",
    "    merge_docs_with_page_breaks(output_file, *input_files)"
   ]
  }
 ],
 "metadata": {
  "kernelspec": {
   "display_name": "nlp",
   "language": "python",
   "name": "python3"
  },
  "language_info": {
   "codemirror_mode": {
    "name": "ipython",
    "version": 3
   },
   "file_extension": ".py",
   "mimetype": "text/x-python",
   "name": "python",
   "nbconvert_exporter": "python",
   "pygments_lexer": "ipython3",
   "version": "3.9.18"
  }
 },
 "nbformat": 4,
 "nbformat_minor": 2
}
